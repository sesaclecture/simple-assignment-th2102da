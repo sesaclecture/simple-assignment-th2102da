{
 "cells": [
  {
   "cell_type": "code",
   "execution_count": 2,
   "id": "7164f110",
   "metadata": {},
   "outputs": [],
   "source": [
    "import json"
   ]
  },
  {
   "cell_type": "code",
   "execution_count": 3,
   "id": "4bb52f9a",
   "metadata": {},
   "outputs": [
    {
     "name": "stdout",
     "output_type": "stream",
     "text": [
      "[All comments - default output]\n",
      "{'MovieFan99': 'That twist was mind_blowing!', 'CinemaLover': \"I couldn't stop watching, so thrilling!\", 'FilmBuff123': 'The cinematography was stunning, a visual masterpiece.'}\n",
      "\n",
      "[All comments - output by json]\n",
      "{\n",
      "  \"MovieFan99\": \"That twist was mind_blowing!\",\n",
      "  \"CinemaLover\": \"I couldn't stop watching, so thrilling!\",\n",
      "  \"FilmBuff123\": \"The cinematography was stunning, a visual masterpiece.\"\n",
      "}\n",
      "\n",
      "Comment by 'CinemaLover': I couldn't stop watching, so thrilling!\n",
      "\n",
      "[Updated comments]\n",
      "{\n",
      "  \"MovieFan99\": \"That twist was mind_blowing!\",\n",
      "  \"CinemaLover\": \"I couldn't stop watching, so thrilling!\",\n",
      "  \"FilmBuff123\": \"The cinematography was stunning, a visual masterpiece.\",\n",
      "  \"teni\": \"wow\"\n",
      "}\n",
      "teni's comment: wow\n"
     ]
    }
   ],
   "source": [
    "comments = {\n",
    "    \"MovieFan99\": \"That twist was mind_blowing!\",\n",
    "    \"CinemaLover\": \"I couldn't stop watching, so thrilling!\",\n",
    "    \"FilmBuff123\": \"The cinematography was stunning, a visual masterpiece.\",\n",
    "}\n",
    "\n",
    "print(\"[All comments - default output]\")\n",
    "print(comments)\n",
    "\n",
    "print(\"\\n[All comments - output by json]\")\n",
    "print(json.dumps(comments, indent=2))\n",
    "print(f\"\\nComment by 'CinemaLover': {comments['CinemaLover']}\")\n",
    "nickname = input(\"\\nEnter your nickname: \")\n",
    "user_comment = input(\"Enter your comment: \")\n",
    "\n",
    "comments[nickname] = user_comment\n",
    "\n",
    "print(\"\\n[Updated comments]\")\n",
    "print(json.dumps(comments, indent=2))\n",
    "\n",
    "print(f\"{nickname}'s comment: {comments[nickname]}\")\n",
    "\n",
    "\n"
   ]
  },
  {
   "cell_type": "markdown",
   "id": "c838e1ef",
   "metadata": {},
   "source": [
    "## To-do-list 프로그램"
   ]
  },
  {
   "cell_type": "code",
   "execution_count": 8,
   "id": "8f6f6163",
   "metadata": {},
   "outputs": [
    {
     "name": "stdout",
     "output_type": "stream",
     "text": [
      "\n",
      "[To-do-list 프로그램]\n",
      "5개의 To-do 항목을 입력하세요.\n"
     ]
    }
   ],
   "source": [
    "print(\"\\n[To-do-list 프로그램]\")\n",
    "print(\"5개의 To-do 항목을 입력하세요.\")\n",
    "\n",
    "for _ in range(5):\n",
    "        \n",
    "    new_date = input(\"\\nEnter the date (YYYY-MM-DD): \")\n",
    "    new_text = input(\"Enter your To-do text: \")\n",
    "    checked_status = input(\"Is it checked? (Y/N): \").strip().upper() == 'Y'\n",
    "\n",
    "    todo_list[new_date] = {\n",
    "    \n",
    "            \"text\": new_text,\n",
    "            \"checked\": checked_status\n",
    "        \n",
    "    }"
   ]
  },
  {
   "cell_type": "code",
   "execution_count": 10,
   "id": "0153d032",
   "metadata": {},
   "outputs": [
    {
     "name": "stdout",
     "output_type": "stream",
     "text": [
      "{\n",
      "  \"2025-09-01\": {\n",
      "    \"text\": \"\\uc6b4\\ub3d9\\uacf5\\ubd80\",\n",
      "    \"checked\": false\n",
      "  },\n",
      "  \"2025-08-27\": {\n",
      "    \"text\": \"\\uc6b4\\ub3d9\",\n",
      "    \"checked\": false\n",
      "  },\n",
      "  \"2025-08-28\": {\n",
      "    \"text\": \"\\uacf5\\ubd80\",\n",
      "    \"checked\": false\n",
      "  },\n",
      "  \"2025-08-29\": {\n",
      "    \"text\": \"\\uacf5\\ubd80\\uacf5\\ubd80\",\n",
      "    \"checked\": false\n",
      "  },\n",
      "  \"2025-08-30\": {\n",
      "    \"text\": \"N\",\n",
      "    \"checked\": false\n",
      "  }\n",
      "}\n"
     ]
    }
   ],
   "source": [
    "print(json.dumps(todo_list, indent=2))"
   ]
  },
  {
   "cell_type": "code",
   "execution_count": 13,
   "id": "a8cb0a2b",
   "metadata": {},
   "outputs": [],
   "source": [
    "name = input(\"Enter your name: \")\n",
    "gender = input(\"Enter your gender: \")\n",
    "age = int(input(\"Enter your age: \"))\n",
    "email = input(\"Enter your email: \")\n",
    "phone = input(\"Enter your phone number: \")\n",
    "address = input(\"Enter your address: \")\n",
    "major = input(\"Enter your major: \")\n",
    "birthdate = input(\"Enter your birthdate (YYYY-MM-DD): \")\n",
    "skill = input(\"Enter your skills (comma-separated): \").split(',')\n",
    "\n",
    "def birthcalculate(birthdate):\n",
    "    age = 2025 - int(birthdate.split('-')[0]) + 1\n",
    "    return age\n",
    "\n",
    "\n",
    "projects = {\n",
    "    \"AI_CADI_Project\":{\n",
    "        \"description\": \"AI CADI autonomous driving robot\",\n",
    "        \"duration\": \"2024-11-16 to 2025-12-24\",\n",
    "        \"technologies\": [\"Python\", \"SAM2\", \"YOLOv11\", \"ROS2\"]\n",
    "    },\n",
    "\n",
    "    \n",
    "    \"AI_Chatbot_Project\":{\n",
    "        \"description\": \"AI Ice Cream Agent Chatbot\",\n",
    "        \"duration\": \"2024-10-25 to 2025-11-15\",\n",
    "        \"technologies\": [\"Python\", \"LLM\", \"LLaMA2\", \"LangChain\", \"STT\"]\n",
    "    }\n",
    "\n",
    "}\n",
    "\n",
    "\n",
    "taehyun_info = {\n",
    "    \"name\": name,\n",
    "    \"gender\": gender,\n",
    "    \"age\": age,\n",
    "    \"birthdate\": birthdate,\n",
    "    \"email\": email,\n",
    "    \"phone\": phone,\n",
    "    \"address\": address,\n",
    "    \"major\": major,\n",
    "    \"skills\": [s.strip() for s in skill],\n",
    "    \"projects\": projects\n",
    "}"
   ]
  },
  {
   "cell_type": "code",
   "execution_count": 14,
   "id": "1fb09dd5",
   "metadata": {},
   "outputs": [
    {
     "name": "stdout",
     "output_type": "stream",
     "text": [
      "{\n",
      "  \"name\": \"taehyun\",\n",
      "  \"gender\": \"male\",\n",
      "  \"age\": 30,\n",
      "  \"birthdate\": \"1996-10-02\",\n",
      "  \"email\": \"th2102da@gmail.com\",\n",
      "  \"phone\": \"01041263764\",\n",
      "  \"address\": \"Seoul\",\n",
      "  \"major\": \"Electric&Electronic\",\n",
      "  \"skills\": [\n",
      "    \"ROS2\",\n",
      "    \"Python\",\n",
      "    \"C\",\n",
      "    \"Matlab\",\n",
      "    \"IssacSIM\",\n",
      "    \"VisionAI\"\n",
      "  ],\n",
      "  \"projects\": {\n",
      "    \"AI_CADI_Project\": {\n",
      "      \"description\": \"AI CADI autonomous driving robot\",\n",
      "      \"duration\": \"2024-11-16 to 2025-12-24\",\n",
      "      \"technologies\": [\n",
      "        \"Python\",\n",
      "        \"SAM2\",\n",
      "        \"YOLOv11\",\n",
      "        \"ROS2\"\n",
      "      ]\n",
      "    },\n",
      "    \"AI_Chatbot_Project\": {\n",
      "      \"description\": \"AI Ice Cream Agent Chatbot\",\n",
      "      \"duration\": \"2024-10-25 to 2025-11-15\",\n",
      "      \"technologies\": [\n",
      "        \"Python\",\n",
      "        \"LLM\",\n",
      "        \"LLaMA2\",\n",
      "        \"LangChain\",\n",
      "        \"STT\"\n",
      "      ]\n",
      "    }\n",
      "  }\n",
      "}\n"
     ]
    }
   ],
   "source": [
    "print(json.dumps(taehyun_info, indent=2))"
   ]
  },
  {
   "cell_type": "code",
   "execution_count": null,
   "id": "a3f09a78",
   "metadata": {},
   "outputs": [],
   "source": []
  },
  {
   "cell_type": "code",
   "execution_count": null,
   "id": "9339eb9a",
   "metadata": {},
   "outputs": [
    {
     "data": {
      "text/plain": [
       "3000"
      ]
     },
     "execution_count": 20,
     "metadata": {},
     "output_type": "execute_result"
    }
   ],
   "source": []
  }
 ],
 "metadata": {
  "kernelspec": {
   "display_name": ".venv",
   "language": "python",
   "name": "python3"
  },
  "language_info": {
   "codemirror_mode": {
    "name": "ipython",
    "version": 3
   },
   "file_extension": ".py",
   "mimetype": "text/x-python",
   "name": "python",
   "nbconvert_exporter": "python",
   "pygments_lexer": "ipython3",
   "version": "3.12.3"
  }
 },
 "nbformat": 4,
 "nbformat_minor": 5
}
